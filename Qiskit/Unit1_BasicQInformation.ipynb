{
  "nbformat": 4,
  "nbformat_minor": 0,
  "metadata": {
    "colab": {
      "provenance": [],
      "authorship_tag": "ABX9TyN+/rzNSakpz1pVFLfcqe5G",
      "include_colab_link": true
    },
    "kernelspec": {
      "name": "python3",
      "display_name": "Python 3"
    },
    "language_info": {
      "name": "python"
    }
  },
  "cells": [
    {
      "cell_type": "markdown",
      "metadata": {
        "id": "view-in-github",
        "colab_type": "text"
      },
      "source": [
        "<a href=\"https://colab.research.google.com/github/EvaaVos/Quantum_Computing_Course/blob/main/Qiskit/Unit1_BasicQInformation.ipynb\" target=\"_parent\"><img src=\"https://colab.research.google.com/assets/colab-badge.svg\" alt=\"Open In Colab\"/></a>"
      ]
    },
    {
      "cell_type": "code",
      "execution_count": 3,
      "metadata": {
        "colab": {
          "base_uri": "https://localhost:8080/"
        },
        "id": "brZCNVmNd24L",
        "outputId": "98f8c23c-d7ed-43c8-924a-1a3e7b6e0757",
        "collapsed": true
      },
      "outputs": [
        {
          "output_type": "stream",
          "name": "stdout",
          "text": [
            "Collecting qiskit\n",
            "  Downloading qiskit-2.0.0-cp39-abi3-manylinux_2_17_x86_64.manylinux2014_x86_64.whl.metadata (12 kB)\n",
            "Collecting rustworkx>=0.15.0 (from qiskit)\n",
            "  Downloading rustworkx-0.16.0-cp39-abi3-manylinux_2_17_x86_64.manylinux2014_x86_64.whl.metadata (10 kB)\n",
            "Requirement already satisfied: numpy<3,>=1.17 in /usr/local/lib/python3.11/dist-packages (from qiskit) (2.0.2)\n",
            "Requirement already satisfied: scipy>=1.5 in /usr/local/lib/python3.11/dist-packages (from qiskit) (1.14.1)\n",
            "Requirement already satisfied: sympy>=1.3 in /usr/local/lib/python3.11/dist-packages (from qiskit) (1.13.1)\n",
            "Collecting dill>=0.3 (from qiskit)\n",
            "  Downloading dill-0.4.0-py3-none-any.whl.metadata (10 kB)\n",
            "Requirement already satisfied: python-dateutil>=2.8.0 in /usr/local/lib/python3.11/dist-packages (from qiskit) (2.8.2)\n",
            "Collecting stevedore>=3.0.0 (from qiskit)\n",
            "  Downloading stevedore-5.4.1-py3-none-any.whl.metadata (2.3 kB)\n",
            "Requirement already satisfied: typing-extensions in /usr/local/lib/python3.11/dist-packages (from qiskit) (4.13.2)\n",
            "Collecting symengine<0.14,>=0.11 (from qiskit)\n",
            "  Downloading symengine-0.13.0-cp311-cp311-manylinux_2_17_x86_64.manylinux2014_x86_64.whl.metadata (1.2 kB)\n",
            "Requirement already satisfied: six>=1.5 in /usr/local/lib/python3.11/dist-packages (from python-dateutil>=2.8.0->qiskit) (1.17.0)\n",
            "Collecting pbr>=2.0.0 (from stevedore>=3.0.0->qiskit)\n",
            "  Downloading pbr-6.1.1-py2.py3-none-any.whl.metadata (3.4 kB)\n",
            "Requirement already satisfied: mpmath<1.4,>=1.1.0 in /usr/local/lib/python3.11/dist-packages (from sympy>=1.3->qiskit) (1.3.0)\n",
            "Requirement already satisfied: setuptools in /usr/local/lib/python3.11/dist-packages (from pbr>=2.0.0->stevedore>=3.0.0->qiskit) (75.2.0)\n",
            "Downloading qiskit-2.0.0-cp39-abi3-manylinux_2_17_x86_64.manylinux2014_x86_64.whl (6.5 MB)\n",
            "\u001b[2K   \u001b[90m━━━━━━━━━━━━━━━━━━━━━━━━━━━━━━━━━━━━━━━━\u001b[0m \u001b[32m6.5/6.5 MB\u001b[0m \u001b[31m34.9 MB/s\u001b[0m eta \u001b[36m0:00:00\u001b[0m\n",
            "\u001b[?25hDownloading dill-0.4.0-py3-none-any.whl (119 kB)\n",
            "\u001b[2K   \u001b[90m━━━━━━━━━━━━━━━━━━━━━━━━━━━━━━━━━━━━━━━━\u001b[0m \u001b[32m119.7/119.7 kB\u001b[0m \u001b[31m9.6 MB/s\u001b[0m eta \u001b[36m0:00:00\u001b[0m\n",
            "\u001b[?25hDownloading rustworkx-0.16.0-cp39-abi3-manylinux_2_17_x86_64.manylinux2014_x86_64.whl (2.1 MB)\n",
            "\u001b[2K   \u001b[90m━━━━━━━━━━━━━━━━━━━━━━━━━━━━━━━━━━━━━━━━\u001b[0m \u001b[32m2.1/2.1 MB\u001b[0m \u001b[31m31.3 MB/s\u001b[0m eta \u001b[36m0:00:00\u001b[0m\n",
            "\u001b[?25hDownloading stevedore-5.4.1-py3-none-any.whl (49 kB)\n",
            "\u001b[2K   \u001b[90m━━━━━━━━━━━━━━━━━━━━━━━━━━━━━━━━━━━━━━━━\u001b[0m \u001b[32m49.5/49.5 kB\u001b[0m \u001b[31m3.0 MB/s\u001b[0m eta \u001b[36m0:00:00\u001b[0m\n",
            "\u001b[?25hDownloading symengine-0.13.0-cp311-cp311-manylinux_2_17_x86_64.manylinux2014_x86_64.whl (49.7 MB)\n",
            "\u001b[2K   \u001b[90m━━━━━━━━━━━━━━━━━━━━━━━━━━━━━━━━━━━━━━━━\u001b[0m \u001b[32m49.7/49.7 MB\u001b[0m \u001b[31m11.1 MB/s\u001b[0m eta \u001b[36m0:00:00\u001b[0m\n",
            "\u001b[?25hDownloading pbr-6.1.1-py2.py3-none-any.whl (108 kB)\n",
            "\u001b[2K   \u001b[90m━━━━━━━━━━━━━━━━━━━━━━━━━━━━━━━━━━━━━━━━\u001b[0m \u001b[32m109.0/109.0 kB\u001b[0m \u001b[31m8.4 MB/s\u001b[0m eta \u001b[36m0:00:00\u001b[0m\n",
            "\u001b[?25hInstalling collected packages: symengine, rustworkx, pbr, dill, stevedore, qiskit\n",
            "Successfully installed dill-0.4.0 pbr-6.1.1 qiskit-2.0.0 rustworkx-0.16.0 stevedore-5.4.1 symengine-0.13.0\n",
            "Requirement already satisfied: qiskit[visualization] in /usr/local/lib/python3.11/dist-packages (2.0.0)\n",
            "Requirement already satisfied: rustworkx>=0.15.0 in /usr/local/lib/python3.11/dist-packages (from qiskit[visualization]) (0.16.0)\n",
            "Requirement already satisfied: numpy<3,>=1.17 in /usr/local/lib/python3.11/dist-packages (from qiskit[visualization]) (2.0.2)\n",
            "Requirement already satisfied: scipy>=1.5 in /usr/local/lib/python3.11/dist-packages (from qiskit[visualization]) (1.14.1)\n",
            "Requirement already satisfied: sympy>=1.3 in /usr/local/lib/python3.11/dist-packages (from qiskit[visualization]) (1.13.1)\n",
            "Requirement already satisfied: dill>=0.3 in /usr/local/lib/python3.11/dist-packages (from qiskit[visualization]) (0.4.0)\n",
            "Requirement already satisfied: python-dateutil>=2.8.0 in /usr/local/lib/python3.11/dist-packages (from qiskit[visualization]) (2.8.2)\n",
            "Requirement already satisfied: stevedore>=3.0.0 in /usr/local/lib/python3.11/dist-packages (from qiskit[visualization]) (5.4.1)\n",
            "Requirement already satisfied: typing-extensions in /usr/local/lib/python3.11/dist-packages (from qiskit[visualization]) (4.13.2)\n",
            "Requirement already satisfied: symengine<0.14,>=0.11 in /usr/local/lib/python3.11/dist-packages (from qiskit[visualization]) (0.13.0)\n",
            "Requirement already satisfied: matplotlib>=3.3 in /usr/local/lib/python3.11/dist-packages (from qiskit[visualization]) (3.10.0)\n",
            "Requirement already satisfied: pydot in /usr/local/lib/python3.11/dist-packages (from qiskit[visualization]) (3.0.4)\n",
            "Requirement already satisfied: Pillow>=4.2.1 in /usr/local/lib/python3.11/dist-packages (from qiskit[visualization]) (11.1.0)\n",
            "Collecting pylatexenc>=1.4 (from qiskit[visualization])\n",
            "  Downloading pylatexenc-2.10.tar.gz (162 kB)\n",
            "\u001b[2K     \u001b[90m━━━━━━━━━━━━━━━━━━━━━━━━━━━━━━━━━━━━━━━\u001b[0m \u001b[32m162.6/162.6 kB\u001b[0m \u001b[31m3.1 MB/s\u001b[0m eta \u001b[36m0:00:00\u001b[0m\n",
            "\u001b[?25h  Preparing metadata (setup.py) ... \u001b[?25l\u001b[?25hdone\n",
            "Requirement already satisfied: seaborn>=0.9.0 in /usr/local/lib/python3.11/dist-packages (from qiskit[visualization]) (0.13.2)\n",
            "Requirement already satisfied: contourpy>=1.0.1 in /usr/local/lib/python3.11/dist-packages (from matplotlib>=3.3->qiskit[visualization]) (1.3.2)\n",
            "Requirement already satisfied: cycler>=0.10 in /usr/local/lib/python3.11/dist-packages (from matplotlib>=3.3->qiskit[visualization]) (0.12.1)\n",
            "Requirement already satisfied: fonttools>=4.22.0 in /usr/local/lib/python3.11/dist-packages (from matplotlib>=3.3->qiskit[visualization]) (4.57.0)\n",
            "Requirement already satisfied: kiwisolver>=1.3.1 in /usr/local/lib/python3.11/dist-packages (from matplotlib>=3.3->qiskit[visualization]) (1.4.8)\n",
            "Requirement already satisfied: packaging>=20.0 in /usr/local/lib/python3.11/dist-packages (from matplotlib>=3.3->qiskit[visualization]) (24.2)\n",
            "Requirement already satisfied: pyparsing>=2.3.1 in /usr/local/lib/python3.11/dist-packages (from matplotlib>=3.3->qiskit[visualization]) (3.2.3)\n",
            "Requirement already satisfied: six>=1.5 in /usr/local/lib/python3.11/dist-packages (from python-dateutil>=2.8.0->qiskit[visualization]) (1.17.0)\n",
            "Requirement already satisfied: pandas>=1.2 in /usr/local/lib/python3.11/dist-packages (from seaborn>=0.9.0->qiskit[visualization]) (2.2.2)\n",
            "Requirement already satisfied: pbr>=2.0.0 in /usr/local/lib/python3.11/dist-packages (from stevedore>=3.0.0->qiskit[visualization]) (6.1.1)\n",
            "Requirement already satisfied: mpmath<1.4,>=1.1.0 in /usr/local/lib/python3.11/dist-packages (from sympy>=1.3->qiskit[visualization]) (1.3.0)\n",
            "Requirement already satisfied: pytz>=2020.1 in /usr/local/lib/python3.11/dist-packages (from pandas>=1.2->seaborn>=0.9.0->qiskit[visualization]) (2025.2)\n",
            "Requirement already satisfied: tzdata>=2022.7 in /usr/local/lib/python3.11/dist-packages (from pandas>=1.2->seaborn>=0.9.0->qiskit[visualization]) (2025.2)\n",
            "Requirement already satisfied: setuptools in /usr/local/lib/python3.11/dist-packages (from pbr>=2.0.0->stevedore>=3.0.0->qiskit[visualization]) (75.2.0)\n",
            "Building wheels for collected packages: pylatexenc\n",
            "  Building wheel for pylatexenc (setup.py) ... \u001b[?25l\u001b[?25hdone\n",
            "  Created wheel for pylatexenc: filename=pylatexenc-2.10-py3-none-any.whl size=136817 sha256=7f9bbc69921b91d5e0b357d1eff52a125690e146bba297eff22bd223dd19c3e5\n",
            "  Stored in directory: /root/.cache/pip/wheels/b1/7a/33/9fdd892f784ed4afda62b685ae3703adf4c91aa0f524c28f03\n",
            "Successfully built pylatexenc\n",
            "Installing collected packages: pylatexenc\n",
            "Successfully installed pylatexenc-2.10\n"
          ]
        }
      ],
      "source": [
        "%pip install qiskit\n",
        "%pip install qiskit[visualization]\n"
      ]
    },
    {
      "cell_type": "code",
      "source": [
        "from qiskit.quantum_info import *\n",
        "from qiskit.visualization import array_to_latex\n",
        "from qiskit.visualization import plot_histogram\n",
        "from IPython.display import display, Math\n",
        "import numpy as np"
      ],
      "metadata": {
        "id": "0Lbb9eq_eHRx"
      },
      "execution_count": 4,
      "outputs": []
    },
    {
      "cell_type": "code",
      "source": [
        "## Generating the colum vector of |0> and |1>\n",
        "\n",
        "ket0 = np.array([[1],[0]])\n",
        "ket1 = np.array([[0],[1]])\n",
        "print(ket0)\n",
        "\n",
        "display(array_to_latex(ket1))"
      ],
      "metadata": {
        "colab": {
          "base_uri": "https://localhost:8080/",
          "height": 92
        },
        "id": "FG1Yrx9gePr4",
        "outputId": "d1b860dd-5d43-48a3-ae5b-9e96ba6c4605"
      },
      "execution_count": 5,
      "outputs": [
        {
          "output_type": "stream",
          "name": "stdout",
          "text": [
            "[[1]\n",
            " [0]]\n"
          ]
        },
        {
          "output_type": "display_data",
          "data": {
            "text/plain": [
              "<IPython.core.display.Latex object>"
            ],
            "text/latex": "$$\n\n\\begin{bmatrix}\n0  \\\\\n 1  \\\\\n \\end{bmatrix}\n$$"
          },
          "metadata": {}
        }
      ]
    },
    {
      "cell_type": "code",
      "source": [
        "## Generating matrices\n",
        "\n",
        "NOT= np.array ([[0,1],[1,0]])\n",
        "display(array_to_latex(NOT))"
      ],
      "metadata": {
        "colab": {
          "base_uri": "https://localhost:8080/",
          "height": 58
        },
        "id": "KO8QmgPffQbe",
        "outputId": "5d04cee1-ad16-4b25-c3fe-5bdc2ebdba2d"
      },
      "execution_count": 6,
      "outputs": [
        {
          "output_type": "display_data",
          "data": {
            "text/plain": [
              "<IPython.core.display.Latex object>"
            ],
            "text/latex": "$$\n\n\\begin{bmatrix}\n0 & 1  \\\\\n 1 & 0  \\\\\n \\end{bmatrix}\n$$"
          },
          "metadata": {}
        }
      ]
    },
    {
      "cell_type": "code",
      "source": [
        "## Generating quantum state\n",
        "## Statevector  class provides functionality for defining and manipulating quantum state vectors.\n",
        "\n",
        "u = Statevector([ 1/(np.sqrt(2)),1/(np.sqrt(2))])\n",
        "display(u.draw(\"latex\"))\n",
        "display(u.is_valid()) # Check if a given vector is a valid quantum state vector (i.e., that it has Euclidean norm equal to 1):"
      ],
      "metadata": {
        "colab": {
          "base_uri": "https://localhost:8080/",
          "height": 57
        },
        "id": "egILeLCqhIXe",
        "outputId": "3af6ebe3-c57c-4140-f504-f3df21ad62b3"
      },
      "execution_count": 7,
      "outputs": [
        {
          "output_type": "display_data",
          "data": {
            "text/plain": [
              "<IPython.core.display.Latex object>"
            ],
            "text/latex": "$$\\frac{\\sqrt{2}}{2} |0\\rangle+\\frac{\\sqrt{2}}{2} |1\\rangle$$"
          },
          "metadata": {}
        },
        {
          "output_type": "display_data",
          "data": {
            "text/plain": [
              "True"
            ]
          },
          "metadata": {}
        }
      ]
    },
    {
      "cell_type": "code",
      "source": [
        "## Measure: simulates a standard basis measurement\n",
        "\n",
        "outcome, state = u.measure()\n",
        "print (outcome)\n",
        "display(state.draw(\"latex\"))\n"
      ],
      "metadata": {
        "colab": {
          "base_uri": "https://localhost:8080/",
          "height": 54
        },
        "id": "TmLOFasohbTA",
        "outputId": "5dd159dd-f912-4944-89aa-5d5402776764"
      },
      "execution_count": 8,
      "outputs": [
        {
          "output_type": "stream",
          "name": "stdout",
          "text": [
            "0\n"
          ]
        },
        {
          "output_type": "display_data",
          "data": {
            "text/plain": [
              "<IPython.core.display.Latex object>"
            ],
            "text/latex": "$$ |0\\rangle$$"
          },
          "metadata": {}
        }
      ]
    },
    {
      "cell_type": "code",
      "source": [
        "## Measuring the quantum state any number of measurements on the system\n",
        "\n",
        "statistics = u.sample_counts(10000)\n",
        "plot_histogram(statistics)"
      ],
      "metadata": {
        "colab": {
          "base_uri": "https://localhost:8080/",
          "height": 487
        },
        "id": "_7iHZmUjk3Gj",
        "outputId": "11989e85-68d7-42ce-aa93-7a57ca5c2eb9"
      },
      "execution_count": 9,
      "outputs": [
        {
          "output_type": "execute_result",
          "data": {
            "text/plain": [
              "<Figure size 640x480 with 1 Axes>"
            ],
            "image/png": "[encoded data removed]"
          },
          "metadata": {},
          "execution_count": 9
        }
      ]
    },
    {
      "cell_type": "code",
      "source": [
        "## Generating unitary operators\n",
        "\n",
        "H = Operator([[1 / np.sqrt(2), 1 / np.sqrt(2)], [1 / np.sqrt(2), -1 / np.sqrt(2)]])\n",
        "display(H.draw(\"latex\"))\n",
        "print ()\n",
        "S = Operator([[1, 0], [0, 1.0j]])\n",
        "display(S.draw(\"latex\"))"
      ],
      "metadata": {
        "colab": {
          "base_uri": "https://localhost:8080/",
          "height": 125
        },
        "id": "tt1AsV0OmCip",
        "outputId": "c5fb4af4-6348-4929-857c-4054a7168567"
      },
      "execution_count": 10,
      "outputs": [
        {
          "output_type": "display_data",
          "data": {
            "text/plain": [
              "<IPython.core.display.Latex object>"
            ],
            "text/latex": "$$\n\n\\begin{bmatrix}\n\\frac{\\sqrt{2}}{2} & \\frac{\\sqrt{2}}{2}  \\\\\n \\frac{\\sqrt{2}}{2} & - \\frac{\\sqrt{2}}{2}  \\\\\n \\end{bmatrix}\n$$"
          },
          "metadata": {}
        },
        {
          "output_type": "stream",
          "name": "stdout",
          "text": [
            "\n"
          ]
        },
        {
          "output_type": "display_data",
          "data": {
            "text/plain": [
              "<IPython.core.display.Latex object>"
            ],
            "text/latex": "$$\n\n\\begin{bmatrix}\n1 & 0  \\\\\n 0 & i  \\\\\n \\end{bmatrix}\n$$"
          },
          "metadata": {}
        }
      ]
    },
    {
      "cell_type": "code",
      "source": [
        "## We can apply a unitary operation to a state vector using the  evolve  method.\n",
        "\n",
        "v = u.evolve(S)\n",
        "display(v.draw(\"latex\"))\n",
        "\n",
        "statistics = v.sample_counts(10000)\n",
        "display(plot_histogram(statistics))"
      ],
      "metadata": {
        "colab": {
          "base_uri": "https://localhost:8080/",
          "height": 510
        },
        "id": "g8STCBAxmdVZ",
        "outputId": "65cba5cc-ea36-431d-dcff-70f8cc3b09c4"
      },
      "execution_count": 11,
      "outputs": [
        {
          "output_type": "display_data",
          "data": {
            "text/plain": [
              "<IPython.core.display.Latex object>"
            ],
            "text/latex": "$$\\frac{\\sqrt{2}}{2} |0\\rangle+\\frac{\\sqrt{2} i}{2} |1\\rangle$$"
          },
          "metadata": {}
        },
        {
          "output_type": "display_data",
          "data": {
            "text/plain": [
              "<Figure size 640x480 with 1 Axes>"
            ],
            "image/png": "[encoded data removed]"
          },
          "metadata": {}
        }
      ]
    },
    {
      "cell_type": "code",
      "source": [
        "## Generating two states |0> and |1> and the tensor\n",
        "\n",
        "zero=Statevector([ 1,0])\n",
        "one=Statevector([0,1])\n",
        "#display(one.draw(\"latex\"))\n",
        "\n",
        "tensor= zero.tensor(one)\n",
        "display(tensor.draw(\"latex\"))"
      ],
      "metadata": {
        "id": "zDEHYzlKm2rO",
        "colab": {
          "base_uri": "https://localhost:8080/",
          "height": 37
        },
        "outputId": "8af468e4-9e19-46ed-8b77-ed211c7f99ea"
      },
      "execution_count": 12,
      "outputs": [
        {
          "output_type": "display_data",
          "data": {
            "text/plain": [
              "<IPython.core.display.Latex object>"
            ],
            "text/latex": "$$ |01\\rangle$$"
          },
          "metadata": {}
        }
      ]
    },
    {
      "cell_type": "code",
      "source": [
        "## Other tensor of vectors.\n",
        "\n",
        "w = Statevector([ 1/2,1/2])\n",
        "w2 = Statevector([ 1/3,1/3])\n",
        "\n",
        "#display(w.draw(\"latex\"))\n",
        "#display(w2.draw(\"latex\"))\n",
        "\n",
        "tensor_ww2=w.tensor(w2)\n",
        "display(tensor_ww2.draw(\"latex\"))\n",
        "print()\n",
        "tensor_w2w=w2.tensor(w)\n",
        "display(tensor_w2w.draw(\"latex\"))"
      ],
      "metadata": {
        "colab": {
          "base_uri": "https://localhost:8080/",
          "height": 76
        },
        "id": "drjE1SRjHaRX",
        "outputId": "0bec818c-d80f-453c-a20d-c43f26fc1424"
      },
      "execution_count": 13,
      "outputs": [
        {
          "output_type": "display_data",
          "data": {
            "text/plain": [
              "<IPython.core.display.Latex object>"
            ],
            "text/latex": "$$\\frac{1}{6} |00\\rangle+\\frac{1}{6} |01\\rangle+\\frac{1}{6} |10\\rangle+\\frac{1}{6} |11\\rangle$$"
          },
          "metadata": {}
        },
        {
          "output_type": "stream",
          "name": "stdout",
          "text": [
            "\n"
          ]
        },
        {
          "output_type": "display_data",
          "data": {
            "text/plain": [
              "<IPython.core.display.Latex object>"
            ],
            "text/latex": "$$\\frac{1}{6} |00\\rangle+\\frac{1}{6} |01\\rangle+\\frac{1}{6} |10\\rangle+\\frac{1}{6} |11\\rangle$$"
          },
          "metadata": {}
        }
      ]
    },
    {
      "cell_type": "code",
      "source": [
        "## Operator and tensor operators\n",
        "H = Operator([[1 / np.sqrt(2), 1 / np.sqrt(2)], [1 / np.sqrt(2), -1 / np.sqrt(2)]])\n",
        "print('Handamard operator'),display(H.draw(\"latex\"))\n",
        "print ()\n",
        "S = Operator([[1, 0], [0, 1.0j]])\n",
        "print('S operator'), display(S.draw(\"latex\"))\n",
        "print()\n",
        "\n",
        "tensor_HS=H.tensor(S)\n",
        "print('Tensor HxS'), display(tensor_HS.draw(\"latex\"))"
      ],
      "metadata": {
        "colab": {
          "base_uri": "https://localhost:8080/",
          "height": 305
        },
        "id": "AIXDD0scIa54",
        "outputId": "f080ef50-a695-407e-f3f9-477a505d3dbc"
      },
      "execution_count": 14,
      "outputs": [
        {
          "output_type": "stream",
          "name": "stdout",
          "text": [
            "Handamard operator\n"
          ]
        },
        {
          "output_type": "display_data",
          "data": {
            "text/plain": [
              "<IPython.core.display.Latex object>"
            ],
            "text/latex": "$$\n\n\\begin{bmatrix}\n\\frac{\\sqrt{2}}{2} & \\frac{\\sqrt{2}}{2}  \\\\\n \\frac{\\sqrt{2}}{2} & - \\frac{\\sqrt{2}}{2}  \\\\\n \\end{bmatrix}\n$$"
          },
          "metadata": {}
        },
        {
          "output_type": "stream",
          "name": "stdout",
          "text": [
            "\n",
            "S operator\n"
          ]
        },
        {
          "output_type": "display_data",
          "data": {
            "text/plain": [
              "<IPython.core.display.Latex object>"
            ],
            "text/latex": "$$\n\n\\begin{bmatrix}\n1 & 0  \\\\\n 0 & i  \\\\\n \\end{bmatrix}\n$$"
          },
          "metadata": {}
        },
        {
          "output_type": "stream",
          "name": "stdout",
          "text": [
            "\n",
            "Tensor HxS\n"
          ]
        },
        {
          "output_type": "display_data",
          "data": {
            "text/plain": [
              "<IPython.core.display.Latex object>"
            ],
            "text/latex": "$$\n\n\\begin{bmatrix}\n\\frac{\\sqrt{2}}{2} & 0 & \\frac{\\sqrt{2}}{2} & 0  \\\\\n 0 & \\frac{\\sqrt{2} i}{2} & 0 & \\frac{\\sqrt{2} i}{2}  \\\\\n \\frac{\\sqrt{2}}{2} & 0 & - \\frac{\\sqrt{2}}{2} & 0  \\\\\n 0 & \\frac{\\sqrt{2} i}{2} & 0 & - \\frac{\\sqrt{2} i}{2}  \\\\\n \\end{bmatrix}\n$$"
          },
          "metadata": {}
        },
        {
          "output_type": "execute_result",
          "data": {
            "text/plain": [
              "(None, None)"
            ]
          },
          "metadata": {},
          "execution_count": 14
        }
      ]
    },
    {
      "cell_type": "code",
      "source": [
        "print ('vector w'), display(w.draw(\"latex\"))\n",
        "print()\n",
        "w_evolv=w.evolve(S)\n",
        "\n",
        "print('gate S acts on vector w '), display(w_evolv.draw(\"latex\"))"
      ],
      "metadata": {
        "colab": {
          "base_uri": "https://localhost:8080/",
          "height": 127
        },
        "id": "DjBp-JoJJbia",
        "outputId": "fc0dbd5d-1415-41c2-a724-b68c0080ec5e"
      },
      "execution_count": 15,
      "outputs": [
        {
          "output_type": "stream",
          "name": "stdout",
          "text": [
            "vector w\n"
          ]
        },
        {
          "output_type": "display_data",
          "data": {
            "text/plain": [
              "<IPython.core.display.Latex object>"
            ],
            "text/latex": "$$\\frac{1}{2} |0\\rangle+\\frac{1}{2} |1\\rangle$$"
          },
          "metadata": {}
        },
        {
          "output_type": "stream",
          "name": "stdout",
          "text": [
            "\n",
            "gate S acts on vector w \n"
          ]
        },
        {
          "output_type": "display_data",
          "data": {
            "text/plain": [
              "<IPython.core.display.Latex object>"
            ],
            "text/latex": "$$\\frac{1}{2} |0\\rangle+\\frac{i}{2} |1\\rangle$$"
          },
          "metadata": {}
        },
        {
          "output_type": "execute_result",
          "data": {
            "text/plain": [
              "(None, None)"
            ]
          },
          "metadata": {},
          "execution_count": 15
        }
      ]
    },
    {
      "cell_type": "code",
      "source": [
        "## Measurement with 3 vectors\n",
        "\n",
        "psi=Statevector([1/(np.sqrt(8)),1/(np.sqrt(8)),1/(np.sqrt(8)),1/(np.sqrt(8)),1/(np.sqrt(8)),1/(np.sqrt(8)),1/(np.sqrt(8)),1/(np.sqrt(8))])\n",
        "display(psi.draw(\"latex\"))\n",
        "\n",
        "## We are measuring qubit 0 which is the last qubit in the braket notation, so the resulting state will depend on the measurement.\n",
        "result0, state0 = psi.measure([0])\n",
        "print(f\"Qubit 0 Measured: {result0}\\nState after measurement:\")\n",
        "display(state0.draw(\"latex\"))\n",
        "# if result=0, we will have\n",
        "#     |0> x [ (sqrt2)/4 |00> + (sqrt2)/4 |10> + (sqrt2)/4 |01> + + (sqrt2)/4 |11> ]\n",
        "#      Pr (X=0) = ((sqrt2)/4)^2 + ((sqrt2)/4)^2 + ((sqrt2)/4)^2 = 1/8 + 1/8 + 1/8 = 3/8\n",
        "# and the consecutive quantum state will be\n",
        "#\n",
        "\n",
        "# The new quantum state will result into:\n",
        "statistics = state0.sample_counts(100000)\n",
        "display(plot_histogram(statistics))\n",
        "\n",
        "\n",
        "result1, state1 = psi.measure([1])\n",
        "print(f\"Qubit 1 Measured: {result1}\\nState after measurement:\")\n",
        "display(state1.draw(\"latex\"))\n",
        "\n",
        "result2, state2 = psi.measure([2])\n",
        "print(f\"Qubit 2 Measured: {result2}\\nState after measurement:\")\n",
        "display(state2.draw(\"latex\"))"
      ],
      "metadata": {
        "colab": {
          "base_uri": "https://localhost:8080/",
          "height": 675
        },
        "id": "oR6ZX6ntKSI9",
        "outputId": "38d99197-19e8-46c8-c2ed-e408192c6614"
      },
      "execution_count": 16,
      "outputs": [
        {
          "output_type": "display_data",
          "data": {
            "text/plain": [
              "<IPython.core.display.Latex object>"
            ],
            "text/latex": "$$\\frac{\\sqrt{2}}{4} |000\\rangle+\\frac{\\sqrt{2}}{4} |001\\rangle+\\frac{\\sqrt{2}}{4} |010\\rangle+\\frac{\\sqrt{2}}{4} |011\\rangle+\\frac{\\sqrt{2}}{4} |100\\rangle+\\frac{\\sqrt{2}}{4} |101\\rangle+\\frac{\\sqrt{2}}{4} |110\\rangle+\\frac{\\sqrt{2}}{4} |111\\rangle$$"
          },
          "metadata": {}
        },
        {
          "output_type": "stream",
          "name": "stdout",
          "text": [
            "Qubit 0 Measured: 1\n",
            "State after measurement:\n"
          ]
        },
        {
          "output_type": "display_data",
          "data": {
            "text/plain": [
              "<IPython.core.display.Latex object>"
            ],
            "text/latex": "$$\\frac{1}{2} |001\\rangle+\\frac{1}{2} |011\\rangle+\\frac{1}{2} |101\\rangle+\\frac{1}{2} |111\\rangle$$"
          },
          "metadata": {}
        },
        {
          "output_type": "display_data",
          "data": {
            "text/plain": [
              "<Figure size 640x480 with 1 Axes>"
            ],
            "image/png": "[encoded data removed]"
          },
          "metadata": {}
        },
        {
          "output_type": "stream",
          "name": "stdout",
          "text": [
            "Qubit 1 Measured: 1\n",
            "State after measurement:\n"
          ]
        },
        {
          "output_type": "display_data",
          "data": {
            "text/plain": [
              "<IPython.core.display.Latex object>"
            ],
            "text/latex": "$$\\frac{1}{2} |010\\rangle+\\frac{1}{2} |011\\rangle+\\frac{1}{2} |110\\rangle+\\frac{1}{2} |111\\rangle$$"
          },
          "metadata": {}
        },
        {
          "output_type": "stream",
          "name": "stdout",
          "text": [
            "Qubit 2 Measured: 0\n",
            "State after measurement:\n"
          ]
        },
        {
          "output_type": "display_data",
          "data": {
            "text/plain": [
              "<IPython.core.display.Latex object>"
            ],
            "text/latex": "$$\\frac{1}{2} |000\\rangle+\\frac{1}{2} |001\\rangle+\\frac{1}{2} |010\\rangle+\\frac{1}{2} |011\\rangle$$"
          },
          "metadata": {}
        }
      ]
    },
    {
      "cell_type": "code",
      "source": [
        "## Generating a Quantum Circuit\n",
        "\n",
        "%pip install qiskit-aer\n",
        "from qiskit.visualization import plot_bloch_multivector\n",
        "from qiskit import QuantumCircuit, QuantumRegister, ClassicalRegister\n",
        "from qiskit.quantum_info import Operator\n",
        "from qiskit_aer import AerProvider, AerSimulator\n",
        "from qiskit.visualization import plot_histogram"
      ],
      "metadata": {
        "id": "PonrX7GMOvle",
        "colab": {
          "base_uri": "https://localhost:8080/"
        },
        "outputId": "8d53cb89-26db-49a4-984a-2e3cdaefdd03"
      },
      "execution_count": 126,
      "outputs": [
        {
          "output_type": "stream",
          "name": "stdout",
          "text": [
            "Requirement already satisfied: qiskit-aer in /usr/local/lib/python3.11/dist-packages (0.17.0)\n",
            "Requirement already satisfied: qiskit>=1.1.0 in /usr/local/lib/python3.11/dist-packages (from qiskit-aer) (2.0.0)\n",
            "Requirement already satisfied: numpy>=1.16.3 in /usr/local/lib/python3.11/dist-packages (from qiskit-aer) (2.0.2)\n",
            "Requirement already satisfied: scipy>=1.0 in /usr/local/lib/python3.11/dist-packages (from qiskit-aer) (1.14.1)\n",
            "Requirement already satisfied: psutil>=5 in /usr/local/lib/python3.11/dist-packages (from qiskit-aer) (5.9.5)\n",
            "Requirement already satisfied: rustworkx>=0.15.0 in /usr/local/lib/python3.11/dist-packages (from qiskit>=1.1.0->qiskit-aer) (0.16.0)\n",
            "Requirement already satisfied: sympy>=1.3 in /usr/local/lib/python3.11/dist-packages (from qiskit>=1.1.0->qiskit-aer) (1.13.1)\n",
            "Requirement already satisfied: dill>=0.3 in /usr/local/lib/python3.11/dist-packages (from qiskit>=1.1.0->qiskit-aer) (0.4.0)\n",
            "Requirement already satisfied: python-dateutil>=2.8.0 in /usr/local/lib/python3.11/dist-packages (from qiskit>=1.1.0->qiskit-aer) (2.8.2)\n",
            "Requirement already satisfied: stevedore>=3.0.0 in /usr/local/lib/python3.11/dist-packages (from qiskit>=1.1.0->qiskit-aer) (5.4.1)\n",
            "Requirement already satisfied: typing-extensions in /usr/local/lib/python3.11/dist-packages (from qiskit>=1.1.0->qiskit-aer) (4.13.2)\n",
            "Requirement already satisfied: symengine<0.14,>=0.11 in /usr/local/lib/python3.11/dist-packages (from qiskit>=1.1.0->qiskit-aer) (0.13.0)\n",
            "Requirement already satisfied: six>=1.5 in /usr/local/lib/python3.11/dist-packages (from python-dateutil>=2.8.0->qiskit>=1.1.0->qiskit-aer) (1.17.0)\n",
            "Requirement already satisfied: pbr>=2.0.0 in /usr/local/lib/python3.11/dist-packages (from stevedore>=3.0.0->qiskit>=1.1.0->qiskit-aer) (6.1.1)\n",
            "Requirement already satisfied: mpmath<1.4,>=1.1.0 in /usr/local/lib/python3.11/dist-packages (from sympy>=1.3->qiskit>=1.1.0->qiskit-aer) (1.3.0)\n",
            "Requirement already satisfied: setuptools in /usr/local/lib/python3.11/dist-packages (from pbr>=2.0.0->stevedore>=3.0.0->qiskit>=1.1.0->qiskit-aer) (75.2.0)\n"
          ]
        }
      ]
    },
    {
      "cell_type": "code",
      "source": [
        "circuit = QuantumCircuit(2)  # Circuit of two qubits (q0 and q1)\n",
        "\n",
        "## Apply gates on q0\n",
        "circuit.h(0)\n",
        "circuit.s(0)\n",
        "circuit.h(0)\n",
        "circuit.t(0)\n",
        "display(circuit.draw(output=\"mpl\"))\n",
        "\n",
        "## By default the quibits are called as q0, q1 ... but we can create our own register\n",
        "\n",
        "X = QuantumRegister(1, \"X\")\n",
        "circuit_X = QuantumCircuit(X)\n",
        "circuit_X.h(X)\n",
        "circuit_X.s(X)\n",
        "display(circuit_X.draw(output=\"mpl\"))\n",
        "\n",
        "## We can visualize the matrix form of the gates\n",
        "display(Operator.from_circuit(circuit_X).draw(\"latex\"))"
      ],
      "metadata": {
        "id": "K68PNQzuWDfL",
        "colab": {
          "base_uri": "https://localhost:8080/",
          "height": 352
        },
        "outputId": "8e006fe6-a326-476c-f52f-20338c2454ac"
      },
      "execution_count": 18,
      "outputs": [
        {
          "output_type": "display_data",
          "data": {
            "text/plain": [
              "<Figure size 454.517x200.667 with 1 Axes>"
            ],
            "image/png": "[encoded data removed]"
          },
          "metadata": {}
        },
        {
          "output_type": "display_data",
          "data": {
            "text/plain": [
              "<Figure size 270.66x117.056 with 1 Axes>"
            ],
            "image/png": "[encoded data removed]"
          },
          "metadata": {}
        },
        {
          "output_type": "display_data",
          "data": {
            "text/plain": [
              "<IPython.core.display.Latex object>"
            ],
            "text/latex": "$$\n\n\\begin{bmatrix}\n\\frac{\\sqrt{2}}{2} & \\frac{\\sqrt{2}}{2}  \\\\\n \\frac{\\sqrt{2} i}{2} & - \\frac{\\sqrt{2} i}{2}  \\\\\n \\end{bmatrix}\n$$"
          },
          "metadata": {}
        }
      ]
    },
    {
      "cell_type": "code",
      "source": [
        "## To measure the qubits, we need to add some classical register to the circuit\n",
        "\n",
        "circuit_measure = QuantumCircuit(2,2)\n",
        "\n",
        "circuit_measure.h(0)\n",
        "circuit_measure.cx(0,1)\n",
        "circuit_measure.measure(0,0)\n",
        "circuit_measure.measure(1,1)  # Important: the qubits and bits are counted independently.\n",
        "\n",
        "display(circuit_measure.draw(output=\"mpl\"))"
      ],
      "metadata": {
        "id": "himCfaGCSHGS",
        "outputId": "a3bbac0b-624e-4965-c2cb-221b8185a387",
        "colab": {
          "base_uri": "https://localhost:8080/",
          "height": 255
        }
      },
      "execution_count": 50,
      "outputs": [
        {
          "output_type": "display_data",
          "data": {
            "text/plain": [
              "<Figure size 454.517x284.278 with 1 Axes>"
            ],
            "image/png": "[encoded data removed]"
          },
          "metadata": {}
        }
      ]
    },
    {
      "cell_type": "code",
      "source": [
        "result = AerSimulator().run(circuit_measure).result()\n",
        "statistics = result.get_counts()\n",
        "display(plot_histogram(statistics))"
      ],
      "metadata": {
        "id": "zZxONeWwTcoD",
        "outputId": "f22b8034-7aed-48c3-9379-4f6f06c3e29b",
        "colab": {
          "base_uri": "https://localhost:8080/",
          "height": 487
        }
      },
      "execution_count": 55,
      "outputs": [
        {
          "output_type": "display_data",
          "data": {
            "text/plain": [
              "<Figure size 640x480 with 1 Axes>"
            ],
            "image/png": "[encoded data removed]"
          },
          "metadata": {}
        }
      ]
    },
    {
      "cell_type": "markdown",
      "source": [
        "Exam Exercises!!!!!!!!!!!!"
      ],
      "metadata": {
        "id": "ZBBOD0MGhYaR"
      }
    },
    {
      "cell_type": "code",
      "source": [
        "circuit_exam = QuantumCircuit(2,2)\n",
        "\n",
        "circuit_exam.x(0)\n",
        "circuit_exam.s(1)\n",
        "circuit_exam.cx(1,0)\n",
        "circuit_exam.h(1)\n",
        "circuit_exam.h(0)\n",
        "\n",
        "display(circuit_exam.draw(output=\"mpl\"))\n",
        "display(Operator.from_circuit(circuit_exam).draw(\"latex\"))"
      ],
      "metadata": {
        "id": "DZMfimZuUrsF",
        "outputId": "0ad18000-4c28-4e2d-f05b-78003d4e951a",
        "colab": {
          "base_uri": "https://localhost:8080/",
          "height": 337
        }
      },
      "execution_count": 75,
      "outputs": [
        {
          "output_type": "display_data",
          "data": {
            "text/plain": [
              "<Figure size 370.906x284.278 with 1 Axes>"
            ],
            "image/png": "[encoded data removed]"
          },
          "metadata": {}
        },
        {
          "output_type": "display_data",
          "data": {
            "text/plain": [
              "<IPython.core.display.Latex object>"
            ],
            "text/latex": "$$\n\n\\begin{bmatrix}\n\\frac{1}{2} & \\frac{1}{2} & \\frac{i}{2} & \\frac{i}{2}  \\\\\n - \\frac{1}{2} & \\frac{1}{2} & \\frac{i}{2} & - \\frac{i}{2}  \\\\\n \\frac{1}{2} & \\frac{1}{2} & - \\frac{i}{2} & - \\frac{i}{2}  \\\\\n - \\frac{1}{2} & \\frac{1}{2} & - \\frac{i}{2} & \\frac{i}{2}  \\\\\n \\end{bmatrix}\n$$"
          },
          "metadata": {}
        }
      ]
    },
    {
      "cell_type": "code",
      "source": [
        "result = AerSimulator().run(circuit_exam).result()\n",
        "statistics = result.get_counts()\n",
        "display(plot_histogram(statistics))\n"
      ],
      "metadata": {
        "id": "Bp6KV363E1nD",
        "outputId": "9e4a1076-d4e5-4cc7-9a29-25b82b3f35b3",
        "colab": {
          "base_uri": "https://localhost:8080/",
          "height": 487
        }
      },
      "execution_count": 70,
      "outputs": [
        {
          "output_type": "display_data",
          "data": {
            "text/plain": [
              "<Figure size 640x480 with 1 Axes>"
            ],
            "image/png": "[encoded data removed]"
          },
          "metadata": {}
        }
      ]
    },
    {
      "cell_type": "code",
      "source": [
        "## Prepare the quantum state\n",
        "psi = Statevector([ 2/(np.sqrt(3)),-1/(3),(np.sqrt(2)/3),(2/3)])\n",
        "display(psi.draw(\"latex\"))"
      ],
      "metadata": {
        "id": "89xJJQH7FHcb",
        "outputId": "54507124-b3b9-46e0-9b6a-d025dbd72409",
        "colab": {
          "base_uri": "https://localhost:8080/",
          "height": 40
        }
      },
      "execution_count": 130,
      "outputs": [
        {
          "output_type": "display_data",
          "data": {
            "text/plain": [
              "<IPython.core.display.Latex object>"
            ],
            "text/latex": "$$\\frac{2 \\sqrt{3}}{3} |00\\rangle- \\frac{1}{3} |01\\rangle+\\frac{\\sqrt{2}}{3} |10\\rangle+\\frac{2}{3} |11\\rangle$$"
          },
          "metadata": {}
        }
      ]
    },
    {
      "cell_type": "code",
      "source": [
        "## Prepare psi0 basis set, bra and ket and projector |psi1><psi1|\n",
        "\n",
        "psi0_ket = Statevector ([ 1/(np.sqrt(3)),np.sqrt(2/3)])\n",
        "display(psi0_ket.draw(\"latex\"))\n",
        "print()\n",
        "\n",
        "psi0_conj = np.conj(psi0_ket.data)\n",
        "psi0_bra = psi0_conj.T\n",
        "\n",
        "projector0= Operator (np.outer(psi0_bra, psi0_ket))\n",
        "display(projector0.draw(\"latex\"))\n",
        "print()\n",
        "print()\n",
        "\n",
        "## Prepare psi0 basis set and projector |psi1><psi1|\n",
        "\n",
        "psi1_ket = Statevector ([(np.sqrt(2/3)),-1/np.sqrt(3)])\n",
        "display(psi1_ket.draw(\"latex\"))\n",
        "print()\n",
        "\n",
        "psi1_conj = np.conj(psi1_ket.data)\n",
        "psi1_bra = psi1_conj.T\n",
        "\n",
        "projector1= Operator (np.outer(psi1_bra, psi1_ket))\n",
        "display(projector1.draw(\"latex\"))\n",
        "print()\n",
        "print()\n",
        "\n",
        "## Generatig tensor from the projector0 and projector1\n",
        "\n",
        "tensor_projections=projector0.tensor(projector1)\n",
        "display(tensor_projections.draw(\"latex\"))\n",
        "print()\n",
        "\n",
        "## Applying tensor's projector to psi state\n",
        "\n",
        "psi_evolv = psi.evolve(tensor_projections)\n",
        "display(psi_evolv.draw(\"latex\"))\n",
        "\n",
        "## Calculando probabilidades\n",
        "\n",
        "probabilities_total = psi_evolv.probabilities()\n",
        "probabilities_q0= psi_evolv.probabilities([0])\n"
      ],
      "metadata": {
        "id": "4f_aLTIzWBC6",
        "outputId": "f99c33b0-6332-407a-e476-e771e5c0eb4d",
        "colab": {
          "base_uri": "https://localhost:8080/",
          "height": 386
        }
      },
      "execution_count": 192,
      "outputs": [
        {
          "output_type": "display_data",
          "data": {
            "text/plain": [
              "<IPython.core.display.Latex object>"
            ],
            "text/latex": "$$\\frac{\\sqrt{3}}{3} |0\\rangle+\\frac{\\sqrt{6}}{3} |1\\rangle$$"
          },
          "metadata": {}
        },
        {
          "output_type": "stream",
          "name": "stdout",
          "text": [
            "\n"
          ]
        },
        {
          "output_type": "display_data",
          "data": {
            "text/plain": [
              "<IPython.core.display.Latex object>"
            ],
            "text/latex": "$$\n\n\\begin{bmatrix}\n\\frac{1}{3} & \\frac{\\sqrt{2}}{3}  \\\\\n \\frac{\\sqrt{2}}{3} & \\frac{2}{3}  \\\\\n \\end{bmatrix}\n$$"
          },
          "metadata": {}
        },
        {
          "output_type": "stream",
          "name": "stdout",
          "text": [
            "\n",
            "\n"
          ]
        },
        {
          "output_type": "display_data",
          "data": {
            "text/plain": [
              "<IPython.core.display.Latex object>"
            ],
            "text/latex": "$$\\frac{\\sqrt{6}}{3} |0\\rangle- \\frac{\\sqrt{3}}{3} |1\\rangle$$"
          },
          "metadata": {}
        },
        {
          "output_type": "stream",
          "name": "stdout",
          "text": [
            "\n"
          ]
        },
        {
          "output_type": "display_data",
          "data": {
            "text/plain": [
              "<IPython.core.display.Latex object>"
            ],
            "text/latex": "$$\n\n\\begin{bmatrix}\n\\frac{2}{3} & - \\frac{\\sqrt{2}}{3}  \\\\\n - \\frac{\\sqrt{2}}{3} & \\frac{1}{3}  \\\\\n \\end{bmatrix}\n$$"
          },
          "metadata": {}
        },
        {
          "output_type": "stream",
          "name": "stdout",
          "text": [
            "\n",
            "\n"
          ]
        },
        {
          "output_type": "display_data",
          "data": {
            "text/plain": [
              "<IPython.core.display.Latex object>"
            ],
            "text/latex": "$$\n\n\\begin{bmatrix}\n\\frac{2}{9} & -0.1571348403 & 0.3142696805 & - \\frac{2}{9}  \\\\\n -0.1571348403 & \\frac{1}{9} & - \\frac{2}{9} & 0.1571348403  \\\\\n 0.3142696805 & - \\frac{2}{9} & \\frac{4}{9} & -0.3142696805  \\\\\n - \\frac{2}{9} & 0.1571348403 & -0.3142696805 & \\frac{2}{9}  \\\\\n \\end{bmatrix}\n$$"
          },
          "metadata": {}
        },
        {
          "output_type": "stream",
          "name": "stdout",
          "text": [
            "\n"
          ]
        },
        {
          "output_type": "display_data",
          "data": {
            "text/plain": [
              "<IPython.core.display.Latex object>"
            ],
            "text/latex": "$$0.3089783997 |00\\rangle-0.2184807217 |01\\rangle+0.4369614434 |10\\rangle-0.3089783997 |11\\rangle$$"
          },
          "metadata": {}
        }
      ]
    },
    {
      "cell_type": "code",
      "source": [],
      "metadata": {
        "id": "yhunz5amWcjG"
      },
      "execution_count": 178,
      "outputs": []
    },
    {
      "cell_type": "code",
      "source": [],
      "metadata": {
        "id": "Rd8t3Xe_W4t2"
      },
      "execution_count": null,
      "outputs": []
    }
  ]
}