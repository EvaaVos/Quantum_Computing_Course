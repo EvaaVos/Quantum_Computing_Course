{
  "nbformat": 4,
  "nbformat_minor": 0,
  "metadata": {
    "colab": {
      "provenance": [],
      "authorship_tag": "ABX9TyNr9yigjxKwGgUh8ccdYjR5",
      "include_colab_link": true
    },
    "kernelspec": {
      "name": "python3",
      "display_name": "Python 3"
    },
    "language_info": {
      "name": "python"
    }
  },
  "cells": [
    {
      "cell_type": "markdown",
      "metadata": {
        "id": "view-in-github",
        "colab_type": "text"
      },
      "source": [
        "<a href=\"https://colab.research.google.com/github/EvaaVos/Quantum_Computing_Course/blob/main/Qiskit/Unit1_BasicQInformation.ipynb\" target=\"_parent\"><img src=\"https://colab.research.google.com/assets/colab-badge.svg\" alt=\"Open In Colab\"/></a>"
      ]
    },
    {
      "cell_type": "code",
      "execution_count": 15,
      "metadata": {
        "colab": {
          "base_uri": "https://localhost:8080/"
        },
        "id": "brZCNVmNd24L",
        "outputId": "091cc3a7-0a2b-45a3-c212-c97a6ebf2f13",
        "collapsed": true
      },
      "outputs": [
        {
          "output_type": "stream",
          "name": "stdout",
          "text": [
            "Requirement already satisfied: qiskit in /usr/local/lib/python3.11/dist-packages (2.0.0)\n",
            "Requirement already satisfied: rustworkx>=0.15.0 in /usr/local/lib/python3.11/dist-packages (from qiskit) (0.16.0)\n",
            "Requirement already satisfied: numpy<3,>=1.17 in /usr/local/lib/python3.11/dist-packages (from qiskit) (2.0.2)\n",
            "Requirement already satisfied: scipy>=1.5 in /usr/local/lib/python3.11/dist-packages (from qiskit) (1.14.1)\n",
            "Requirement already satisfied: sympy>=1.3 in /usr/local/lib/python3.11/dist-packages (from qiskit) (1.13.1)\n",
            "Requirement already satisfied: dill>=0.3 in /usr/local/lib/python3.11/dist-packages (from qiskit) (0.4.0)\n",
            "Requirement already satisfied: python-dateutil>=2.8.0 in /usr/local/lib/python3.11/dist-packages (from qiskit) (2.8.2)\n",
            "Requirement already satisfied: stevedore>=3.0.0 in /usr/local/lib/python3.11/dist-packages (from qiskit) (5.4.1)\n",
            "Requirement already satisfied: typing-extensions in /usr/local/lib/python3.11/dist-packages (from qiskit) (4.13.2)\n",
            "Requirement already satisfied: symengine<0.14,>=0.11 in /usr/local/lib/python3.11/dist-packages (from qiskit) (0.13.0)\n",
            "Requirement already satisfied: six>=1.5 in /usr/local/lib/python3.11/dist-packages (from python-dateutil>=2.8.0->qiskit) (1.17.0)\n",
            "Requirement already satisfied: pbr>=2.0.0 in /usr/local/lib/python3.11/dist-packages (from stevedore>=3.0.0->qiskit) (6.1.1)\n",
            "Requirement already satisfied: mpmath<1.4,>=1.1.0 in /usr/local/lib/python3.11/dist-packages (from sympy>=1.3->qiskit) (1.3.0)\n",
            "Requirement already satisfied: setuptools in /usr/local/lib/python3.11/dist-packages (from pbr>=2.0.0->stevedore>=3.0.0->qiskit) (75.2.0)\n",
            "Requirement already satisfied: qiskit[visualization] in /usr/local/lib/python3.11/dist-packages (2.0.0)\n",
            "Requirement already satisfied: rustworkx>=0.15.0 in /usr/local/lib/python3.11/dist-packages (from qiskit[visualization]) (0.16.0)\n",
            "Requirement already satisfied: numpy<3,>=1.17 in /usr/local/lib/python3.11/dist-packages (from qiskit[visualization]) (2.0.2)\n",
            "Requirement already satisfied: scipy>=1.5 in /usr/local/lib/python3.11/dist-packages (from qiskit[visualization]) (1.14.1)\n",
            "Requirement already satisfied: sympy>=1.3 in /usr/local/lib/python3.11/dist-packages (from qiskit[visualization]) (1.13.1)\n",
            "Requirement already satisfied: dill>=0.3 in /usr/local/lib/python3.11/dist-packages (from qiskit[visualization]) (0.4.0)\n",
            "Requirement already satisfied: python-dateutil>=2.8.0 in /usr/local/lib/python3.11/dist-packages (from qiskit[visualization]) (2.8.2)\n",
            "Requirement already satisfied: stevedore>=3.0.0 in /usr/local/lib/python3.11/dist-packages (from qiskit[visualization]) (5.4.1)\n",
            "Requirement already satisfied: typing-extensions in /usr/local/lib/python3.11/dist-packages (from qiskit[visualization]) (4.13.2)\n",
            "Requirement already satisfied: symengine<0.14,>=0.11 in /usr/local/lib/python3.11/dist-packages (from qiskit[visualization]) (0.13.0)\n",
            "Requirement already satisfied: matplotlib>=3.3 in /usr/local/lib/python3.11/dist-packages (from qiskit[visualization]) (3.10.0)\n",
            "Requirement already satisfied: pydot in /usr/local/lib/python3.11/dist-packages (from qiskit[visualization]) (3.0.4)\n",
            "Requirement already satisfied: Pillow>=4.2.1 in /usr/local/lib/python3.11/dist-packages (from qiskit[visualization]) (11.1.0)\n",
            "Requirement already satisfied: pylatexenc>=1.4 in /usr/local/lib/python3.11/dist-packages (from qiskit[visualization]) (2.10)\n",
            "Requirement already satisfied: seaborn>=0.9.0 in /usr/local/lib/python3.11/dist-packages (from qiskit[visualization]) (0.13.2)\n",
            "Requirement already satisfied: contourpy>=1.0.1 in /usr/local/lib/python3.11/dist-packages (from matplotlib>=3.3->qiskit[visualization]) (1.3.2)\n",
            "Requirement already satisfied: cycler>=0.10 in /usr/local/lib/python3.11/dist-packages (from matplotlib>=3.3->qiskit[visualization]) (0.12.1)\n",
            "Requirement already satisfied: fonttools>=4.22.0 in /usr/local/lib/python3.11/dist-packages (from matplotlib>=3.3->qiskit[visualization]) (4.57.0)\n",
            "Requirement already satisfied: kiwisolver>=1.3.1 in /usr/local/lib/python3.11/dist-packages (from matplotlib>=3.3->qiskit[visualization]) (1.4.8)\n",
            "Requirement already satisfied: packaging>=20.0 in /usr/local/lib/python3.11/dist-packages (from matplotlib>=3.3->qiskit[visualization]) (24.2)\n",
            "Requirement already satisfied: pyparsing>=2.3.1 in /usr/local/lib/python3.11/dist-packages (from matplotlib>=3.3->qiskit[visualization]) (3.2.3)\n",
            "Requirement already satisfied: six>=1.5 in /usr/local/lib/python3.11/dist-packages (from python-dateutil>=2.8.0->qiskit[visualization]) (1.17.0)\n",
            "Requirement already satisfied: pandas>=1.2 in /usr/local/lib/python3.11/dist-packages (from seaborn>=0.9.0->qiskit[visualization]) (2.2.2)\n",
            "Requirement already satisfied: pbr>=2.0.0 in /usr/local/lib/python3.11/dist-packages (from stevedore>=3.0.0->qiskit[visualization]) (6.1.1)\n",
            "Requirement already satisfied: mpmath<1.4,>=1.1.0 in /usr/local/lib/python3.11/dist-packages (from sympy>=1.3->qiskit[visualization]) (1.3.0)\n",
            "Requirement already satisfied: pytz>=2020.1 in /usr/local/lib/python3.11/dist-packages (from pandas>=1.2->seaborn>=0.9.0->qiskit[visualization]) (2025.2)\n",
            "Requirement already satisfied: tzdata>=2022.7 in /usr/local/lib/python3.11/dist-packages (from pandas>=1.2->seaborn>=0.9.0->qiskit[visualization]) (2025.2)\n",
            "Requirement already satisfied: setuptools in /usr/local/lib/python3.11/dist-packages (from pbr>=2.0.0->stevedore>=3.0.0->qiskit[visualization]) (75.2.0)\n"
          ]
        }
      ],
      "source": [
        "%pip install qiskit\n",
        "%pip install qiskit[visualization]\n"
      ]
    },
    {
      "cell_type": "code",
      "source": [
        "from qiskit.quantum_info import *\n",
        "from qiskit.visualization import array_to_latex\n",
        "from qiskit.visualization import plot_histogram\n",
        "from IPython.display import display, Math\n",
        "import numpy as np"
      ],
      "metadata": {
        "id": "0Lbb9eq_eHRx"
      },
      "execution_count": 16,
      "outputs": []
    },
    {
      "cell_type": "code",
      "source": [
        "## Generating the colum vector of |0> and |1>\n",
        "\n",
        "ket0 = np.array([[1],[0]])\n",
        "ket1 = np.array([[0],[1]])\n",
        "print(ket0)\n",
        "\n",
        "display(array_to_latex(ket1))"
      ],
      "metadata": {
        "colab": {
          "base_uri": "https://localhost:8080/",
          "height": 92
        },
        "id": "FG1Yrx9gePr4",
        "outputId": "982d3ce9-33ba-4d3f-9e0d-e01c97d0e6e4"
      },
      "execution_count": 17,
      "outputs": [
        {
          "output_type": "stream",
          "name": "stdout",
          "text": [
            "[[1]\n",
            " [0]]\n"
          ]
        },
        {
          "output_type": "display_data",
          "data": {
            "text/plain": [
              "<IPython.core.display.Latex object>"
            ],
            "text/latex": "$$\n\n\\begin{bmatrix}\n0  \\\\\n 1  \\\\\n \\end{bmatrix}\n$$"
          },
          "metadata": {}
        }
      ]
    },
    {
      "cell_type": "code",
      "source": [
        "## Generating matrices\n",
        "\n",
        "NOT= np.array ([[0,1],[1,0]])\n",
        "display(array_to_latex(NOT))"
      ],
      "metadata": {
        "colab": {
          "base_uri": "https://localhost:8080/",
          "height": 58
        },
        "id": "KO8QmgPffQbe",
        "outputId": "5d7a6cca-b704-4b86-c5bb-9bf9a9b4cea7"
      },
      "execution_count": 18,
      "outputs": [
        {
          "output_type": "display_data",
          "data": {
            "text/plain": [
              "<IPython.core.display.Latex object>"
            ],
            "text/latex": "$$\n\n\\begin{bmatrix}\n0 & 1  \\\\\n 1 & 0  \\\\\n \\end{bmatrix}\n$$"
          },
          "metadata": {}
        }
      ]
    },
    {
      "cell_type": "code",
      "source": [
        "## Generating quantum state\n",
        "## Statevector  class provides functionality for defining and manipulating quantum state vectors.\n",
        "\n",
        "u = Statevector([ 1/(np.sqrt(2)),1/(np.sqrt(2))])\n",
        "display(u.draw(\"latex\"))\n",
        "display(u.is_valid()) # Check if a given vector is a valid quantum state vector (i.e., that it has Euclidean norm equal to 1):"
      ],
      "metadata": {
        "colab": {
          "base_uri": "https://localhost:8080/",
          "height": 57
        },
        "id": "egILeLCqhIXe",
        "outputId": "14e5c2f1-1d69-46c1-c8d5-f11bad1767c5"
      },
      "execution_count": 19,
      "outputs": [
        {
          "output_type": "display_data",
          "data": {
            "text/plain": [
              "<IPython.core.display.Latex object>"
            ],
            "text/latex": "$$\\frac{\\sqrt{2}}{2} |0\\rangle+\\frac{\\sqrt{2}}{2} |1\\rangle$$"
          },
          "metadata": {}
        },
        {
          "output_type": "display_data",
          "data": {
            "text/plain": [
              "True"
            ]
          },
          "metadata": {}
        }
      ]
    },
    {
      "cell_type": "code",
      "source": [
        "## Measure: simulates a standard basis measurement\n",
        "\n",
        "outcome, state = u.measure()\n",
        "print (outcome)\n",
        "display(state.draw(\"latex\"))\n"
      ],
      "metadata": {
        "colab": {
          "base_uri": "https://localhost:8080/",
          "height": 54
        },
        "id": "TmLOFasohbTA",
        "outputId": "4b9c1a97-42c6-4849-e547-d8fd40a8a599"
      },
      "execution_count": 20,
      "outputs": [
        {
          "output_type": "stream",
          "name": "stdout",
          "text": [
            "1\n"
          ]
        },
        {
          "output_type": "display_data",
          "data": {
            "text/plain": [
              "<IPython.core.display.Latex object>"
            ],
            "text/latex": "$$ |1\\rangle$$"
          },
          "metadata": {}
        }
      ]
    },
    {
      "cell_type": "code",
      "source": [
        "## Measuring the quantum state any number of measurements on the system\n",
        "\n",
        "statistics = u.sample_counts(10000)\n",
        "plot_histogram(statistics)"
      ],
      "metadata": {
        "colab": {
          "base_uri": "https://localhost:8080/",
          "height": 487
        },
        "id": "_7iHZmUjk3Gj",
        "outputId": "23609fe9-d2b2-48d1-d1bb-2eb5b5a9e2dd"
      },
      "execution_count": 21,
      "outputs": [
        {
          "output_type": "execute_result",
          "data": {
            "text/plain": [
              "<Figure size 640x480 with 1 Axes>"
            ],
            "image/png": "[encoded data removed]"
          },
          "metadata": {},
          "execution_count": 21
        }
      ]
    },
    {
      "cell_type": "code",
      "source": [
        "## Generating unitary operators\n",
        "\n",
        "H = Operator([[1 / np.sqrt(2), 1 / np.sqrt(2)], [1 / np.sqrt(2), -1 / np.sqrt(2)]])\n",
        "display(H.draw(\"latex\"))\n",
        "print ()\n",
        "S = Operator([[1, 0], [0, 1.0j]])\n",
        "display(S.draw(\"latex\"))"
      ],
      "metadata": {
        "colab": {
          "base_uri": "https://localhost:8080/",
          "height": 125
        },
        "id": "tt1AsV0OmCip",
        "outputId": "58cbb119-4d1a-478d-c9e7-7b7fbcf1a667"
      },
      "execution_count": 22,
      "outputs": [
        {
          "output_type": "display_data",
          "data": {
            "text/plain": [
              "<IPython.core.display.Latex object>"
            ],
            "text/latex": "$$\n\n\\begin{bmatrix}\n\\frac{\\sqrt{2}}{2} & \\frac{\\sqrt{2}}{2}  \\\\\n \\frac{\\sqrt{2}}{2} & - \\frac{\\sqrt{2}}{2}  \\\\\n \\end{bmatrix}\n$$"
          },
          "metadata": {}
        },
        {
          "output_type": "stream",
          "name": "stdout",
          "text": [
            "\n"
          ]
        },
        {
          "output_type": "display_data",
          "data": {
            "text/plain": [
              "<IPython.core.display.Latex object>"
            ],
            "text/latex": "$$\n\n\\begin{bmatrix}\n1 & 0  \\\\\n 0 & i  \\\\\n \\end{bmatrix}\n$$"
          },
          "metadata": {}
        }
      ]
    },
    {
      "cell_type": "code",
      "source": [
        "## We can apply a unitary operation to a state vector using the  evolve  method.\n",
        "\n",
        "v = u.evolve(S)\n",
        "display(v.draw(\"latex\"))\n",
        "\n",
        "statistics = v.sample_counts(10000)\n",
        "display(plot_histogram(statistics))"
      ],
      "metadata": {
        "colab": {
          "base_uri": "https://localhost:8080/",
          "height": 510
        },
        "id": "g8STCBAxmdVZ",
        "outputId": "eaecb941-1615-4056-c522-3aada2be786f"
      },
      "execution_count": 23,
      "outputs": [
        {
          "output_type": "display_data",
          "data": {
            "text/plain": [
              "<IPython.core.display.Latex object>"
            ],
            "text/latex": "$$\\frac{\\sqrt{2}}{2} |0\\rangle+\\frac{\\sqrt{2} i}{2} |1\\rangle$$"
          },
          "metadata": {}
        },
        {
          "output_type": "display_data",
          "data": {
            "text/plain": [
              "<Figure size 640x480 with 1 Axes>"
            ],
            "image/png": "[encoded data removed]"
          },
          "metadata": {}
        }
      ]
    },
    {
      "cell_type": "code",
      "source": [
        "## Generating two states |0> and |1> and the tensor\n",
        "\n",
        "zero=Statevector([ 1,0])\n",
        "one=Statevector([0,1])\n",
        "#display(one.draw(\"latex\"))\n",
        "\n",
        "tensor= zero.tensor(one)\n",
        "display(tensor.draw(\"latex\"))"
      ],
      "metadata": {
        "id": "zDEHYzlKm2rO",
        "colab": {
          "base_uri": "https://localhost:8080/",
          "height": 37
        },
        "outputId": "d78fa534-fb9f-4c50-9818-8e1eb6a54a68"
      },
      "execution_count": 24,
      "outputs": [
        {
          "output_type": "display_data",
          "data": {
            "text/plain": [
              "<IPython.core.display.Latex object>"
            ],
            "text/latex": "$$ |01\\rangle$$"
          },
          "metadata": {}
        }
      ]
    },
    {
      "cell_type": "code",
      "source": [
        "## Other tensor of vectors.\n",
        "\n",
        "w = Statevector([ 1/2,1/2])\n",
        "w2 = Statevector([ 1/3,1/3])\n",
        "\n",
        "#display(w.draw(\"latex\"))\n",
        "#display(w2.draw(\"latex\"))\n",
        "\n",
        "tensor_ww2=w.tensor(w2)\n",
        "display(tensor_ww2.draw(\"latex\"))\n",
        "print()\n",
        "tensor_w2w=w2.tensor(w)\n",
        "display(tensor_w2w.draw(\"latex\"))"
      ],
      "metadata": {
        "colab": {
          "base_uri": "https://localhost:8080/",
          "height": 76
        },
        "id": "drjE1SRjHaRX",
        "outputId": "78da36c3-0e9e-4fe8-b328-972d481cb4bf"
      },
      "execution_count": 25,
      "outputs": [
        {
          "output_type": "display_data",
          "data": {
            "text/plain": [
              "<IPython.core.display.Latex object>"
            ],
            "text/latex": "$$\\frac{1}{6} |00\\rangle+\\frac{1}{6} |01\\rangle+\\frac{1}{6} |10\\rangle+\\frac{1}{6} |11\\rangle$$"
          },
          "metadata": {}
        },
        {
          "output_type": "stream",
          "name": "stdout",
          "text": [
            "\n"
          ]
        },
        {
          "output_type": "display_data",
          "data": {
            "text/plain": [
              "<IPython.core.display.Latex object>"
            ],
            "text/latex": "$$\\frac{1}{6} |00\\rangle+\\frac{1}{6} |01\\rangle+\\frac{1}{6} |10\\rangle+\\frac{1}{6} |11\\rangle$$"
          },
          "metadata": {}
        }
      ]
    },
    {
      "cell_type": "code",
      "source": [
        "## Operator and tensor operators\n",
        "H = Operator([[1 / np.sqrt(2), 1 / np.sqrt(2)], [1 / np.sqrt(2), -1 / np.sqrt(2)]])\n",
        "print('Handamard operator'),display(H.draw(\"latex\"))\n",
        "print ()\n",
        "S = Operator([[1, 0], [0, 1.0j]])\n",
        "print('S operator'), display(S.draw(\"latex\"))\n",
        "print()\n",
        "\n",
        "tensor_HS=H.tensor(S)\n",
        "print('Tensor HxS'), display(tensor_HS.draw(\"latex\"))"
      ],
      "metadata": {
        "colab": {
          "base_uri": "https://localhost:8080/",
          "height": 305
        },
        "id": "AIXDD0scIa54",
        "outputId": "a5f3f859-6963-4a5e-8b3f-4d14abf7e69e"
      },
      "execution_count": 26,
      "outputs": [
        {
          "output_type": "stream",
          "name": "stdout",
          "text": [
            "Handamard operator\n"
          ]
        },
        {
          "output_type": "display_data",
          "data": {
            "text/plain": [
              "<IPython.core.display.Latex object>"
            ],
            "text/latex": "$$\n\n\\begin{bmatrix}\n\\frac{\\sqrt{2}}{2} & \\frac{\\sqrt{2}}{2}  \\\\\n \\frac{\\sqrt{2}}{2} & - \\frac{\\sqrt{2}}{2}  \\\\\n \\end{bmatrix}\n$$"
          },
          "metadata": {}
        },
        {
          "output_type": "stream",
          "name": "stdout",
          "text": [
            "\n",
            "S operator\n"
          ]
        },
        {
          "output_type": "display_data",
          "data": {
            "text/plain": [
              "<IPython.core.display.Latex object>"
            ],
            "text/latex": "$$\n\n\\begin{bmatrix}\n1 & 0  \\\\\n 0 & i  \\\\\n \\end{bmatrix}\n$$"
          },
          "metadata": {}
        },
        {
          "output_type": "stream",
          "name": "stdout",
          "text": [
            "\n",
            "Tensor HxS\n"
          ]
        },
        {
          "output_type": "display_data",
          "data": {
            "text/plain": [
              "<IPython.core.display.Latex object>"
            ],
            "text/latex": "$$\n\n\\begin{bmatrix}\n\\frac{\\sqrt{2}}{2} & 0 & \\frac{\\sqrt{2}}{2} & 0  \\\\\n 0 & \\frac{\\sqrt{2} i}{2} & 0 & \\frac{\\sqrt{2} i}{2}  \\\\\n \\frac{\\sqrt{2}}{2} & 0 & - \\frac{\\sqrt{2}}{2} & 0  \\\\\n 0 & \\frac{\\sqrt{2} i}{2} & 0 & - \\frac{\\sqrt{2} i}{2}  \\\\\n \\end{bmatrix}\n$$"
          },
          "metadata": {}
        },
        {
          "output_type": "execute_result",
          "data": {
            "text/plain": [
              "(None, None)"
            ]
          },
          "metadata": {},
          "execution_count": 26
        }
      ]
    },
    {
      "cell_type": "code",
      "source": [
        "print ('vector w'), display(w.draw(\"latex\"))\n",
        "print()\n",
        "w_evolv=w.evolve(S)\n",
        "\n",
        "print('gate S acts on vector w '), display(w_evolv.draw(\"latex\"))"
      ],
      "metadata": {
        "colab": {
          "base_uri": "https://localhost:8080/",
          "height": 127
        },
        "id": "DjBp-JoJJbia",
        "outputId": "943f1468-db14-452c-a8e2-85c6ecf473ce"
      },
      "execution_count": 27,
      "outputs": [
        {
          "output_type": "stream",
          "name": "stdout",
          "text": [
            "vector w\n"
          ]
        },
        {
          "output_type": "display_data",
          "data": {
            "text/plain": [
              "<IPython.core.display.Latex object>"
            ],
            "text/latex": "$$\\frac{1}{2} |0\\rangle+\\frac{1}{2} |1\\rangle$$"
          },
          "metadata": {}
        },
        {
          "output_type": "stream",
          "name": "stdout",
          "text": [
            "\n",
            "gate S acts on vector w \n"
          ]
        },
        {
          "output_type": "display_data",
          "data": {
            "text/plain": [
              "<IPython.core.display.Latex object>"
            ],
            "text/latex": "$$\\frac{1}{2} |0\\rangle+\\frac{i}{2} |1\\rangle$$"
          },
          "metadata": {}
        },
        {
          "output_type": "execute_result",
          "data": {
            "text/plain": [
              "(None, None)"
            ]
          },
          "metadata": {},
          "execution_count": 27
        }
      ]
    },
    {
      "cell_type": "code",
      "source": [
        "## Measurement with 3 vectors\n",
        "\n",
        "psi=Statevector([1/(np.sqrt(8)),1/(np.sqrt(8)),1/(np.sqrt(8)),1/(np.sqrt(8)),1/(np.sqrt(8)),1/(np.sqrt(8)),1/(np.sqrt(8)),1/(np.sqrt(8))])\n",
        "display(psi.draw(\"latex\"))\n",
        "\n",
        "## We are measuring qubit 0 which is the last qubit in the braket notation, so the resulting state will depend on the measurement.\n",
        "result0, state0 = psi.measure([0])\n",
        "print(f\"Qubit 0 Measured: {result0}\\nState after measurement:\")\n",
        "display(state0.draw(\"latex\"))\n",
        "# if result=0, we will have\n",
        "#     |0> x [ (sqrt2)/4 |00> + (sqrt2)/4 |10> + (sqrt2)/4 |01> + + (sqrt2)/4 |11> ]\n",
        "#      Pr (X=0) = ((sqrt2)/4)^2 + ((sqrt2)/4)^2 + ((sqrt2)/4)^2 = 1/8 + 1/8 + 1/8 = 3/8\n",
        "# and the consecutive quantum state will be\n",
        "#\n",
        "\n",
        "# The new quantum state will result into:\n",
        "statistics = state0.sample_counts(100000)\n",
        "display(plot_histogram(statistics))\n",
        "\n",
        "\n",
        "result1, state1 = psi.measure([1])\n",
        "print(f\"Qubit 1 Measured: {result1}\\nState after measurement:\")\n",
        "display(state1.draw(\"latex\"))\n",
        "\n",
        "result2, state2 = psi.measure([2])\n",
        "print(f\"Qubit 2 Measured: {result2}\\nState after measurement:\")\n",
        "display(state2.draw(\"latex\"))"
      ],
      "metadata": {
        "colab": {
          "base_uri": "https://localhost:8080/",
          "height": 675
        },
        "id": "oR6ZX6ntKSI9",
        "outputId": "5dd09aa6-04f4-4881-a5e8-27e5a5542eb9"
      },
      "execution_count": 28,
      "outputs": [
        {
          "output_type": "display_data",
          "data": {
            "text/plain": [
              "<IPython.core.display.Latex object>"
            ],
            "text/latex": "$$\\frac{\\sqrt{2}}{4} |000\\rangle+\\frac{\\sqrt{2}}{4} |001\\rangle+\\frac{\\sqrt{2}}{4} |010\\rangle+\\frac{\\sqrt{2}}{4} |011\\rangle+\\frac{\\sqrt{2}}{4} |100\\rangle+\\frac{\\sqrt{2}}{4} |101\\rangle+\\frac{\\sqrt{2}}{4} |110\\rangle+\\frac{\\sqrt{2}}{4} |111\\rangle$$"
          },
          "metadata": {}
        },
        {
          "output_type": "stream",
          "name": "stdout",
          "text": [
            "Qubit 0 Measured: 0\n",
            "State after measurement:\n"
          ]
        },
        {
          "output_type": "display_data",
          "data": {
            "text/plain": [
              "<IPython.core.display.Latex object>"
            ],
            "text/latex": "$$\\frac{1}{2} |000\\rangle+\\frac{1}{2} |010\\rangle+\\frac{1}{2} |100\\rangle+\\frac{1}{2} |110\\rangle$$"
          },
          "metadata": {}
        },
        {
          "output_type": "display_data",
          "data": {
            "text/plain": [
              "<Figure size 640x480 with 1 Axes>"
            ],
            "image/png": "[encoded data removed]"
          },
          "metadata": {}
        },
        {
          "output_type": "stream",
          "name": "stdout",
          "text": [
            "Qubit 1 Measured: 0\n",
            "State after measurement:\n"
          ]
        },
        {
          "output_type": "display_data",
          "data": {
            "text/plain": [
              "<IPython.core.display.Latex object>"
            ],
            "text/latex": "$$\\frac{1}{2} |000\\rangle+\\frac{1}{2} |001\\rangle+\\frac{1}{2} |100\\rangle+\\frac{1}{2} |101\\rangle$$"
          },
          "metadata": {}
        },
        {
          "output_type": "stream",
          "name": "stdout",
          "text": [
            "Qubit 2 Measured: 1\n",
            "State after measurement:\n"
          ]
        },
        {
          "output_type": "display_data",
          "data": {
            "text/plain": [
              "<IPython.core.display.Latex object>"
            ],
            "text/latex": "$$\\frac{1}{2} |100\\rangle+\\frac{1}{2} |101\\rangle+\\frac{1}{2} |110\\rangle+\\frac{1}{2} |111\\rangle$$"
          },
          "metadata": {}
        }
      ]
    },
    {
      "cell_type": "code",
      "source": [
        "jhvufj"
      ],
      "metadata": {
        "id": "PonrX7GMOvle"
      },
      "execution_count": 28,
      "outputs": []
    },
    {
      "cell_type": "code",
      "source": [],
      "metadata": {
        "id": "K68PNQzuWDfL"
      },
      "execution_count": 28,
      "outputs": []
    }
  ]
}