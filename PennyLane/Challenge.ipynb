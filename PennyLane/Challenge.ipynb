{
  "nbformat": 4,
  "nbformat_minor": 0,
  "metadata": {
    "colab": {
      "provenance": [],
      "authorship_tag": "ABX9TyOG+cPeGVvPiZjXrLybxLhp",
      "include_colab_link": true
    },
    "kernelspec": {
      "name": "python3",
      "display_name": "Python 3"
    },
    "language_info": {
      "name": "python"
    }
  },
  "cells": [
    {
      "cell_type": "markdown",
      "metadata": {
        "id": "view-in-github",
        "colab_type": "text"
      },
      "source": [
        "<a href=\"https://colab.research.google.com/github/EvaaVos/Quantum_Computing_Course/blob/main/PennyLane/Challenge.ipynb\" target=\"_parent\"><img src=\"https://colab.research.google.com/assets/colab-badge.svg\" alt=\"Open In Colab\"/></a>"
      ]
    },
    {
      "cell_type": "code",
      "execution_count": 59,
      "metadata": {
        "colab": {
          "base_uri": "https://localhost:8080/"
        },
        "id": "ONmxjKP_KWvL",
        "outputId": "0ac89a96-bb73-45fa-bbae-ae451506feb6"
      },
      "outputs": [
        {
          "output_type": "stream",
          "name": "stdout",
          "text": [
            "Requirement already satisfied: pennylane in /usr/local/lib/python3.11/dist-packages (0.41.1)\n",
            "Requirement already satisfied: numpy in /usr/local/lib/python3.11/dist-packages (from pennylane) (2.0.2)\n",
            "Requirement already satisfied: scipy in /usr/local/lib/python3.11/dist-packages (from pennylane) (1.15.3)\n",
            "Requirement already satisfied: networkx in /usr/local/lib/python3.11/dist-packages (from pennylane) (3.5)\n",
            "Requirement already satisfied: rustworkx>=0.14.0 in /usr/local/lib/python3.11/dist-packages (from pennylane) (0.16.0)\n",
            "Requirement already satisfied: autograd in /usr/local/lib/python3.11/dist-packages (from pennylane) (1.8.0)\n",
            "Requirement already satisfied: tomlkit in /usr/local/lib/python3.11/dist-packages (from pennylane) (0.13.3)\n",
            "Requirement already satisfied: appdirs in /usr/local/lib/python3.11/dist-packages (from pennylane) (1.4.4)\n",
            "Requirement already satisfied: autoray>=0.6.11 in /usr/local/lib/python3.11/dist-packages (from pennylane) (0.7.1)\n",
            "Requirement already satisfied: cachetools in /usr/local/lib/python3.11/dist-packages (from pennylane) (5.5.2)\n",
            "Requirement already satisfied: pennylane-lightning>=0.41 in /usr/local/lib/python3.11/dist-packages (from pennylane) (0.41.1)\n",
            "Requirement already satisfied: requests in /usr/local/lib/python3.11/dist-packages (from pennylane) (2.32.3)\n",
            "Requirement already satisfied: typing-extensions in /usr/local/lib/python3.11/dist-packages (from pennylane) (4.14.0)\n",
            "Requirement already satisfied: packaging in /usr/local/lib/python3.11/dist-packages (from pennylane) (24.2)\n",
            "Requirement already satisfied: diastatic-malt in /usr/local/lib/python3.11/dist-packages (from pennylane) (2.15.2)\n",
            "Requirement already satisfied: scipy-openblas32>=0.3.26 in /usr/local/lib/python3.11/dist-packages (from pennylane-lightning>=0.41->pennylane) (0.3.29.265.1)\n",
            "Requirement already satisfied: astunparse in /usr/local/lib/python3.11/dist-packages (from diastatic-malt->pennylane) (1.6.3)\n",
            "Requirement already satisfied: gast in /usr/local/lib/python3.11/dist-packages (from diastatic-malt->pennylane) (0.6.0)\n",
            "Requirement already satisfied: termcolor in /usr/local/lib/python3.11/dist-packages (from diastatic-malt->pennylane) (3.1.0)\n",
            "Requirement already satisfied: charset-normalizer<4,>=2 in /usr/local/lib/python3.11/dist-packages (from requests->pennylane) (3.4.2)\n",
            "Requirement already satisfied: idna<4,>=2.5 in /usr/local/lib/python3.11/dist-packages (from requests->pennylane) (3.10)\n",
            "Requirement already satisfied: urllib3<3,>=1.21.1 in /usr/local/lib/python3.11/dist-packages (from requests->pennylane) (2.4.0)\n",
            "Requirement already satisfied: certifi>=2017.4.17 in /usr/local/lib/python3.11/dist-packages (from requests->pennylane) (2025.6.15)\n",
            "Requirement already satisfied: wheel<1.0,>=0.23.0 in /usr/local/lib/python3.11/dist-packages (from astunparse->diastatic-malt->pennylane) (0.45.1)\n",
            "Requirement already satisfied: six<2.0,>=1.6.1 in /usr/local/lib/python3.11/dist-packages (from astunparse->diastatic-malt->pennylane) (1.17.0)\n"
          ]
        }
      ],
      "source": [
        "!pip install pennylane\n",
        "\n",
        "import json\n",
        "import pennylane as qml\n",
        "import pennylane.numpy as np"
      ]
    },
    {
      "cell_type": "code",
      "source": [],
      "metadata": {
        "id": "qCSqoQ9VKYBQ"
      },
      "execution_count": 59,
      "outputs": []
    },
    {
      "cell_type": "code",
      "source": [
        "def W(params):\n",
        "  if params.ndim == 3:\n",
        "   for X in range(params.shape[0]):\n",
        "    for i in range(params.shape[1]):\n",
        "     for j in range(params.shape[2]):\n",
        "        qml.RY(params[X,i,j], wires=j)\n",
        "     for j in range(params.shape[2]):\n",
        "      if j < params.shape[2] - 1 :\n",
        "        qml.CNOT(wires=[j, j + 1])\n",
        "      if j ==  params.shape[2] - 1:\n",
        "        qml.CNOT(wires=[j, 0])\n",
        "  if params.ndim == 2:\n",
        "    for i in range(params.shape[0]):\n",
        "     for j in range(params.shape[1]):\n",
        "        qml.RY(params[i,j], wires=j)\n",
        "     for j in range(params.shape[1]):\n",
        "        if j < params.shape[1] - 1 :\n",
        "         qml.CNOT(wires=[j, j + 1])\n",
        "        if j == params.shape[1] - 1:\n",
        "          qml.CNOT(wires=[j, 0])\n",
        "\n",
        "def S(g,x,num_wires):\n",
        "  for i in range(num_wires):\n",
        "    H = qml.Hamiltonian([1.0],[g(wires=i)])\n",
        "    qml.ApproxTimeEvolution(H, -x, 1)\n",
        "\n",
        "dev = qml.device(\"default.qubit\", wires = 10)\n",
        "\n",
        "@qml.qnode(dev)\n",
        "def quantum_model(param_set, g, x):\n",
        "  if param_set.ndim == 3:\n",
        "   num_mat,N,M = param_set.shape\n",
        "  else:\n",
        "   N,M = param_set.shape\n",
        "  for X in range(num_mat):\n",
        "   if X != num_mat-1:\n",
        "    W(param_set[X])\n",
        "    S(g, x, M)\n",
        "   else:\n",
        "    W(param_set[X])\n",
        "    break\n",
        "  return qml.probs(wires = [0])\n",
        "\n",
        "# These functions are used to test your solution\n",
        "\n",
        "def run(test_case_input: str) -> str:\n",
        "    ins = json.loads(test_case_input)\n",
        "    params = np.array(ins[0])\n",
        "    g = getattr(qml, ins[1])\n",
        "    x = ins[2]\n",
        "    outs = quantum_model(params, g, x).tolist()\n",
        "    #print(qml.draw(quantum_model)(params, g, x))\n",
        "    return str(outs)\n",
        "\n",
        "def check(solution_output: str, expected_output: str) -> None:\n",
        "    solution_output = json.loads(solution_output)\n",
        "    expected_output = json.loads(expected_output)\n",
        "    print('Expected probabilities:' , expected_output)\n",
        "    dev_test = qml.device(\"default.qubit\", wires = [0,1,2])\n",
        "\n",
        "    @qml.qnode(dev_test)\n",
        "    def w_node(params):\n",
        "\n",
        "        W(params)\n",
        "\n",
        "        return qml.probs(wires = [0,1])\n",
        "\n",
        "    @qml.qnode(dev_test)\n",
        "    def s_node(g, x, num_wires):\n",
        "\n",
        "        S(g, x, num_wires)\n",
        "\n",
        "        return qml.probs(wires = [0,1])\n",
        "\n",
        "    params_test = np.array([[np.pi, np.pi/4, np.pi],[np.pi, np.pi/4, np.pi/3]])\n",
        "    w_test = w_node(params_test)\n",
        "\n",
        "    s_test = s_node(qml.PauliX, np.pi/7, 3)\n",
        "\n",
        "    assert np.allclose(w_test, [0.10983496, 0.21338835, 0.03661165, 0.64016504], atol = 1e-3), \"Something isn't quite right with the trainable block.\"\n",
        "\n",
        "    assert np.allclose(s_test, [0.65892978, 0.15281512, 0.15281512, 0.03543998], atol = 1e-3), \"Something isn't quite right with the encoding block.\"\n",
        "\n",
        "    assert np.allclose(solution_output,expected_output, atol = 1e-3), \"Not the correct probabilities for the quantum model.\"\n",
        "\n",
        "\n",
        "\n",
        "test_cases = [\n",
        "    ('[[[[1.0472, 0.7854, 3.1416, 0.3927],[1.0472, 0.7854, 3.1416, 0.5236]],[[1.0472, 0.7854, 1.5708, 0.3927],[0.7854, 0.7854, 1.5708, 0.7854]]],\"PauliX\", 0.7854]', '[0.46653, 0.53347]'),\n",
        "    ('[[[[0.62832, 0.3927, 1.0472, 0.7854],[0.7854, 0.31416, 0.62832, 0.5236]],[[0.31416, 0.7854, 0.7854, 0.3927],[0.31416, 0.3927, 0.31416, 0.3927]]],\"PauliY\", 0.5236]', '[0.68594, 0.31406]')\n",
        "]\n",
        "\n",
        "# This will run the public test cases locally\n",
        "for i, (input_, expected_output) in enumerate(test_cases):\n",
        "    print(f\"Running test case {i} with input '{input_}'...\")\n",
        "\n",
        "    try:\n",
        "        output = run(input_)\n",
        "        print ('Probabilities wire 0:', output)\n",
        "\n",
        "    except Exception as exc:\n",
        "        print(f\"Runtime Error. {exc}\")\n",
        "\n",
        "    else:\n",
        "        if message := check(output, expected_output):\n",
        "            print(f\"Wrong Answer. Have: '{output}'. Want: '{expected_output}'.\")\n",
        "\n",
        "        else:\n",
        "            print(\"Correct!\")"
      ],
      "metadata": {
        "colab": {
          "base_uri": "https://localhost:8080/"
        },
        "id": "1sQfEyeWx8qk",
        "outputId": "c4f86dd9-3aaf-467b-eede-45eaaa745dcd"
      },
      "execution_count": 75,
      "outputs": [
        {
          "output_type": "stream",
          "name": "stdout",
          "text": [
            "Running test case 0 with input '[[[[1.0472, 0.7854, 3.1416, 0.3927],[1.0472, 0.7854, 3.1416, 0.5236]],[[1.0472, 0.7854, 1.5708, 0.3927],[0.7854, 0.7854, 1.5708, 0.7854]]],\"PauliX\", 0.7854]'...\n",
            "Probabilities wire 0: [0.4665295442152107, 0.5334704557847874]\n",
            "Expected probabilities: [0.46653, 0.53347]\n",
            "Correct!\n",
            "Running test case 1 with input '[[[[0.62832, 0.3927, 1.0472, 0.7854],[0.7854, 0.31416, 0.62832, 0.5236]],[[0.31416, 0.7854, 0.7854, 0.3927],[0.31416, 0.3927, 0.31416, 0.3927]]],\"PauliY\", 0.5236]'...\n",
            "Probabilities wire 0: [0.6859411491032397, 0.314058850896761]\n",
            "Expected probabilities: [0.68594, 0.31406]\n",
            "Correct!\n"
          ]
        }
      ]
    },
    {
      "cell_type": "code",
      "source": [],
      "metadata": {
        "id": "E7psiWWsKdlm"
      },
      "execution_count": null,
      "outputs": []
    }
  ]
}